{
 "cells": [
  {
   "cell_type": "code",
   "execution_count": 23,
   "metadata": {},
   "outputs": [],
   "source": [
    "import torch\n",
    "import torchvision\n",
    "from torch.utils.data import DataLoader\n",
    "from torchvision.transforms import ToTensor"
   ]
  },
  {
   "cell_type": "code",
   "execution_count": 51,
   "metadata": {},
   "outputs": [],
   "source": [
    "batch_size = 100"
   ]
  },
  {
   "cell_type": "code",
   "execution_count": 52,
   "metadata": {},
   "outputs": [],
   "source": [
    "train_set = torchvision.datasets.MNIST(\n",
    "    root='./data',\n",
    "    train=True,\n",
    "    download=True,\n",
    "    transform=ToTensor()\n",
    ")\n",
    "train_loader = DataLoader(\n",
    "    train_set, \n",
    "    batch_size=batch_size, \n",
    "    shuffle=True, \n",
    "    num_workers=2\n",
    ")\n",
    "\n",
    "test_set = torchvision.datasets.MNIST(\n",
    "    root='./data',\n",
    "    train=False,\n",
    "    download=True,\n",
    "    transform=ToTensor()\n",
    ")\n",
    "test_loader = DataLoader(\n",
    "    test_set, \n",
    "    batch_size=batch_size, \n",
    "    shuffle=False, \n",
    "    num_workers=2\n",
    ")\n",
    "\n",
    "classes = ('0', '1', '2', '3', '4', '5', '6', '7', '8', '9')"
   ]
  },
  {
   "cell_type": "code",
   "execution_count": 48,
   "metadata": {},
   "outputs": [
    {
     "name": "stdout",
     "output_type": "stream",
     "text": [
      "Shape of X [N, C, H, W]: torch.Size([10, 1, 28, 28])\n",
      "Shape of y: torch.Size([10]) torch.int64\n"
     ]
    }
   ],
   "source": [
    "for X, y in test_loader:\n",
    "    print(f\"Shape of X [N, C, H, W]: {X.shape}\")\n",
    "    print(f\"Shape of y: {y.shape} {y.dtype}\")\n",
    "    break"
   ]
  },
  {
   "cell_type": "code",
   "execution_count": 4,
   "metadata": {},
   "outputs": [],
   "source": [
    "import matplotlib.pyplot as plt\n",
    "import numpy as np"
   ]
  },
  {
   "cell_type": "code",
   "execution_count": 19,
   "metadata": {},
   "outputs": [],
   "source": [
    "def images_show(img):\n",
    "    npimg = img.numpy()\n",
    "    plt.imshow(np.transpose(npimg, (1, 2, 0)))\n",
    "    plt.show()"
   ]
  },
  {
   "cell_type": "code",
   "execution_count": 49,
   "metadata": {},
   "outputs": [
    {
     "data": {
      "image/png": "[encoded data removed]",
      "text/plain": [
       "<Figure size 640x480 with 1 Axes>"
      ]
     },
     "metadata": {},
     "output_type": "display_data"
    },
    {
     "name": "stdout",
     "output_type": "stream",
     "text": [
      "1     9     6     8     4     3     5     6     7     6    \n"
     ]
    }
   ],
   "source": [
    "# Getting random images\n",
    "data_iter = iter(train_loader)\n",
    "images, y = next(data_iter)\n",
    "\n",
    "# show images\n",
    "images_show(torchvision.utils.make_grid(images))\n",
    "# print labels\n",
    "print(' '.join(f'{classes[y[j]]:5s}' for j in range(batch_size)))"
   ]
  },
  {
   "attachments": {},
   "cell_type": "markdown",
   "metadata": {},
   "source": [
    "## Define a Convolutional Neural Network"
   ]
  },
  {
   "cell_type": "code",
   "execution_count": 29,
   "metadata": {},
   "outputs": [],
   "source": [
    "import torch.nn as nn\n",
    "import torch.nn.functional as F"
   ]
  },
  {
   "cell_type": "code",
   "execution_count": 44,
   "metadata": {},
   "outputs": [],
   "source": [
    "class CNN(nn.Module):\n",
    "    def __init__(self):\n",
    "        super().__init__()\n",
    "        self.layers_stack = nn.Sequential(\n",
    "            # [1, 28, 28]\n",
    "            nn.Conv2d( \n",
    "                in_channels=1, \n",
    "                out_channels=3, \n",
    "                kernel_size=3\n",
    "            ),\n",
    "            # [3, 26, 26]\n",
    "            nn.MaxPool2d(\n",
    "                kernel_size=2, \n",
    "                stride=2\n",
    "            ),\n",
    "            # [3, 13, 13]\n",
    "            nn.Conv2d(\n",
    "                in_channels=3,\n",
    "                out_channels=6,\n",
    "                kernel_size=4\n",
    "            ),\n",
    "            # [6, 10, 10]\n",
    "            nn.MaxPool2d(\n",
    "                kernel_size=2, \n",
    "                stride=2\n",
    "            ),\n",
    "            # [6, 5, 5]\n",
    "            nn.Flatten(),\n",
    "            # [1, 6*5*5]\n",
    "            nn.Linear(\n",
    "                in_features=6*5*5, \n",
    "                out_features=120\n",
    "            ),\n",
    "            # [1, 120]\n",
    "            nn.ReLU(),\n",
    "            nn.Linear(\n",
    "                in_features=120, \n",
    "                out_features=60\n",
    "            ),\n",
    "            # [1, 60]\n",
    "            nn.ReLU(),\n",
    "            nn.Linear(\n",
    "                in_features=60, \n",
    "                out_features=10\n",
    "            )\n",
    "            # [1, 10]\n",
    "        )\n",
    "    \n",
    "    def forward(self, x):\n",
    "        x = self.layers_stack(x)\n",
    "        return x"
   ]
  },
  {
   "cell_type": "code",
   "execution_count": 35,
   "metadata": {},
   "outputs": [],
   "source": [
    "model = CNN()"
   ]
  },
  {
   "attachments": {},
   "cell_type": "markdown",
   "metadata": {},
   "source": [
    "## Define a Loss function and an Optimizer"
   ]
  },
  {
   "cell_type": "code",
   "execution_count": 36,
   "metadata": {},
   "outputs": [],
   "source": [
    "import torch.optim as optim"
   ]
  },
  {
   "cell_type": "code",
   "execution_count": 37,
   "metadata": {},
   "outputs": [],
   "source": [
    "loss_fn = nn.CrossEntropyLoss()\n",
    "optimizer = optim.SGD(model.parameters(), lr=0.001, momentum=0.9)"
   ]
  },
  {
   "attachments": {},
   "cell_type": "markdown",
   "metadata": {},
   "source": [
    "## Train the network"
   ]
  },
  {
   "attachments": {},
   "cell_type": "markdown",
   "metadata": {},
   "source": [
    "### Define the train function"
   ]
  },
  {
   "cell_type": "code",
   "execution_count": 57,
   "metadata": {},
   "outputs": [],
   "source": [
    "def train(dataloader, model, loss_fn, optimizer):\n",
    "    size = len(train_loader.dataset)\n",
    "    model.train()\n",
    "    for i, data in enumerate(dataloader):\n",
    "        # data is a list of [inputs, labels]\n",
    "        X, y = data\n",
    "\n",
    "        # forward-pass\n",
    "        pred = model(X)\n",
    "\n",
    "        # calculate loss\n",
    "        loss = loss_fn(pred, y)\n",
    "\n",
    "        # backward-pass\n",
    "        loss.backward()\n",
    "\n",
    "        # optimize\n",
    "        optimizer.step()\n",
    "\n",
    "        # zero out all the parameter gradients\n",
    "        optimizer.zero_grad()\n",
    "\n",
    "        if i % 100 == 0:\n",
    "            loss, current = loss.item(), (i + 1) * len(X)\n",
    "            print(f\"loss: {loss:>7f}  [{current:>5d}/{size:>5d}]\")"
   ]
  },
  {
   "attachments": {},
   "cell_type": "markdown",
   "metadata": {},
   "source": [
    "### Define the test function"
   ]
  },
  {
   "cell_type": "code",
   "execution_count": 54,
   "metadata": {},
   "outputs": [],
   "source": [
    "def test(dataloader, model, loss_fn):\n",
    "    size = len(dataloader.dataset)\n",
    "    num_batches = len(dataloader)\n",
    "    model.eval()\n",
    "    test_loss, correct = 0, 0\n",
    "    with torch.no_grad():\n",
    "        for X, y in dataloader:\n",
    "            pred = model(X)\n",
    "            test_loss += loss_fn(pred, y).item()\n",
    "            correct += (pred.argmax(1) == y).type(torch.float).sum().item()\n",
    "    test_loss /= num_batches\n",
    "    correct /= size\n",
    "    print(f\"Test Error: \\n Accuracy: {(100*correct):>0.1f}%, Avg loss: {test_loss:>8f} \\n\")"
   ]
  },
  {
   "attachments": {},
   "cell_type": "markdown",
   "metadata": {},
   "source": [
    "### Train the model"
   ]
  },
  {
   "cell_type": "code",
   "execution_count": 58,
   "metadata": {},
   "outputs": [
    {
     "name": "stdout",
     "output_type": "stream",
     "text": [
      "Epoch 1\n",
      "-------------------------------\n",
      "loss: 2.285802  [  100/60000]\n",
      "loss: 2.278128  [10100/60000]\n",
      "loss: 2.245514  [20100/60000]\n",
      "loss: 2.191175  [30100/60000]\n",
      "loss: 2.025853  [40100/60000]\n",
      "loss: 1.611917  [50100/60000]\n",
      "Test Error: \n",
      " Accuracy: 72.5%, Avg loss: 0.947556 \n",
      "\n",
      "Epoch 2\n",
      "-------------------------------\n",
      "loss: 1.013390  [  100/60000]\n",
      "loss: 0.796260  [10100/60000]\n",
      "loss: 0.566981  [20100/60000]\n",
      "loss: 0.623187  [30100/60000]\n",
      "loss: 0.437380  [40100/60000]\n",
      "loss: 0.379730  [50100/60000]\n",
      "Test Error: \n",
      " Accuracy: 90.2%, Avg loss: 0.332342 \n",
      "\n",
      "Epoch 3\n",
      "-------------------------------\n",
      "loss: 0.260117  [  100/60000]\n",
      "loss: 0.308841  [10100/60000]\n",
      "loss: 0.277020  [20100/60000]\n",
      "loss: 0.231280  [30100/60000]\n",
      "loss: 0.204370  [40100/60000]\n",
      "loss: 0.243910  [50100/60000]\n",
      "Test Error: \n",
      " Accuracy: 92.5%, Avg loss: 0.248398 \n",
      "\n",
      "Epoch 4\n",
      "-------------------------------\n",
      "loss: 0.378507  [  100/60000]\n",
      "loss: 0.282332  [10100/60000]\n",
      "loss: 0.116348  [20100/60000]\n",
      "loss: 0.336066  [30100/60000]\n",
      "loss: 0.255441  [40100/60000]\n",
      "loss: 0.313923  [50100/60000]\n",
      "Test Error: \n",
      " Accuracy: 94.0%, Avg loss: 0.205292 \n",
      "\n",
      "Epoch 5\n",
      "-------------------------------\n",
      "loss: 0.233503  [  100/60000]\n",
      "loss: 0.099344  [10100/60000]\n",
      "loss: 0.139281  [20100/60000]\n",
      "loss: 0.345063  [30100/60000]\n",
      "loss: 0.213014  [40100/60000]\n",
      "loss: 0.243753  [50100/60000]\n",
      "Test Error: \n",
      " Accuracy: 94.8%, Avg loss: 0.175579 \n",
      "\n",
      "Finished Training\n"
     ]
    }
   ],
   "source": [
    "for i in range(5):\n",
    "    print(f\"Epoch {i+1}\\n-------------------------------\")\n",
    "    train(train_loader, model, loss_fn, optimizer)\n",
    "    test(test_loader, model, loss_fn)\n",
    "print('Finished Training')\n",
    "        "
   ]
  },
  {
   "attachments": {},
   "cell_type": "markdown",
   "metadata": {},
   "source": [
    "### Check accuracy of the classified types"
   ]
  },
  {
   "cell_type": "code",
   "execution_count": 59,
   "metadata": {},
   "outputs": [
    {
     "name": "stdout",
     "output_type": "stream",
     "text": [
      "Accuracy for class: 0     is 99.3 %\n",
      "Accuracy for class: 1     is 98.6 %\n",
      "Accuracy for class: 2     is 93.4 %\n",
      "Accuracy for class: 3     is 94.6 %\n",
      "Accuracy for class: 4     is 94.1 %\n",
      "Accuracy for class: 5     is 94.7 %\n",
      "Accuracy for class: 6     is 96.0 %\n",
      "Accuracy for class: 7     is 92.7 %\n",
      "Accuracy for class: 8     is 91.3 %\n",
      "Accuracy for class: 9     is 92.5 %\n"
     ]
    }
   ],
   "source": [
    "# prepare to count predictions for each class\n",
    "correct_pred = {classname: 0 for classname in classes}\n",
    "total_pred = {classname: 0 for classname in classes}\n",
    "\n",
    "with torch.no_grad():\n",
    "        for X, y in test_loader:\n",
    "            pred = model(X)\n",
    "            pred = pred.argmax(1)\n",
    "            for label, prediction in zip(y, pred):\n",
    "                if label == prediction:\n",
    "                    correct_pred[classes[label]] += 1\n",
    "                total_pred[classes[label]] += 1\n",
    "            \n",
    "# print accuracy for each class\n",
    "for classname, correct_count in correct_pred.items():\n",
    "    accuracy = 100 * float(correct_count) / total_pred[classname]\n",
    "    print(f'Accuracy for class: {classname:5s} is {accuracy:.1f} %')"
   ]
  }
 ],
 "metadata": {
  "kernelspec": {
   "display_name": "base",
   "language": "python",
   "name": "python3"
  },
  "language_info": {
   "codemirror_mode": {
    "name": "ipython",
    "version": 3
   },
   "file_extension": ".py",
   "mimetype": "text/x-python",
   "name": "python",
   "nbconvert_exporter": "python",
   "pygments_lexer": "ipython3",
   "version": "3.10.9"
  },
  "orig_nbformat": 4
 },
 "nbformat": 4,
 "nbformat_minor": 2
}
